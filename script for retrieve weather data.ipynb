{
 "cells": [
  {
   "cell_type": "code",
   "execution_count": 9,
   "metadata": {
    "collapsed": true
   },
   "outputs": [],
   "source": [
    "# We import the useful packages\n",
    "import pandas as pd\n",
    "import numpy as np\n",
    "import datetime\n",
    "import forecastio\n",
    "\n",
    "\n"
   ]
  },
  {
   "cell_type": "code",
   "execution_count": 10,
   "metadata": {
    "collapsed": false
   },
   "outputs": [
    {
     "data": {
      "text/html": [
       "<div>\n",
       "<table border=\"1\" class=\"dataframe\">\n",
       "  <thead>\n",
       "    <tr style=\"text-align: right;\">\n",
       "      <th></th>\n",
       "      <th>ville</th>\n",
       "      <th>longitude</th>\n",
       "      <th>latitude</th>\n",
       "    </tr>\n",
       "  </thead>\n",
       "  <tbody>\n",
       "    <tr>\n",
       "      <th>0</th>\n",
       "      <td>Oyonnax</td>\n",
       "      <td>5.652411</td>\n",
       "      <td>46.253890</td>\n",
       "    </tr>\n",
       "    <tr>\n",
       "      <th>1</th>\n",
       "      <td>Bourg-en-Bresse</td>\n",
       "      <td>5.225176</td>\n",
       "      <td>46.206765</td>\n",
       "    </tr>\n",
       "    <tr>\n",
       "      <th>2</th>\n",
       "      <td>Château-Thierry</td>\n",
       "      <td>3.389271</td>\n",
       "      <td>49.048019</td>\n",
       "    </tr>\n",
       "    <tr>\n",
       "      <th>3</th>\n",
       "      <td>Laon</td>\n",
       "      <td>3.626335</td>\n",
       "      <td>49.569824</td>\n",
       "    </tr>\n",
       "    <tr>\n",
       "      <th>4</th>\n",
       "      <td>Saint-Quentin</td>\n",
       "      <td>3.296719</td>\n",
       "      <td>49.842629</td>\n",
       "    </tr>\n",
       "  </tbody>\n",
       "</table>\n",
       "</div>"
      ],
      "text/plain": [
       "             ville  longitude   latitude\n",
       "0          Oyonnax   5.652411  46.253890\n",
       "1  Bourg-en-Bresse   5.225176  46.206765\n",
       "2  Château-Thierry   3.389271  49.048019\n",
       "3             Laon   3.626335  49.569824\n",
       "4    Saint-Quentin   3.296719  49.842629"
      ]
     },
     "execution_count": 10,
     "metadata": {},
     "output_type": "execute_result"
    }
   ],
   "source": [
    "# Importation of the dataset for weather\n",
    "data_weather = pd.read_csv(\"departments_lat_long.csv\")\n",
    "data_weather.head()"
   ]
  },
  {
   "cell_type": "code",
   "execution_count": 11,
   "metadata": {
    "collapsed": false
   },
   "outputs": [
    {
     "name": "stdout",
     "output_type": "stream",
     "text": [
      "OK\n",
      "OK\n"
     ]
    },
    {
     "name": "stderr",
     "output_type": "stream",
     "text": [
      "/home/nasse/anaconda3/lib/python3.5/site-packages/ipykernel/__main__.py:18: SettingWithCopyWarning: \n",
      "A value is trying to be set on a copy of a slice from a DataFrame\n",
      "\n",
      "See the caveats in the documentation: http://pandas.pydata.org/pandas-docs/stable/indexing.html#indexing-view-versus-copy\n",
      "/home/nasse/anaconda3/lib/python3.5/site-packages/ipykernel/__main__.py:19: SettingWithCopyWarning: \n",
      "A value is trying to be set on a copy of a slice from a DataFrame\n",
      "\n",
      "See the caveats in the documentation: http://pandas.pydata.org/pandas-docs/stable/indexing.html#indexing-view-versus-copy\n",
      "/home/nasse/anaconda3/lib/python3.5/site-packages/ipykernel/__main__.py:20: SettingWithCopyWarning: \n",
      "A value is trying to be set on a copy of a slice from a DataFrame\n",
      "\n",
      "See the caveats in the documentation: http://pandas.pydata.org/pandas-docs/stable/indexing.html#indexing-view-versus-copy\n"
     ]
    }
   ],
   "source": [
    "api_key = \"6ae262930af3192c0a959e0acb4728f7\"\n",
    "\n",
    "data_weather[\"Date\"]=\"\"\n",
    "data_weather[\"temperature\"]=\"\"\n",
    "data_weather[\"Weather\"]=\"\"\n",
    "\n",
    "\n",
    "# You will have to read the csv file\n",
    "for day in (1,4): \n",
    "    \n",
    "    for i in range(len(data_weather)):\n",
    "        lat=data_weather[\"latitude\"][i]\n",
    "        lng=data_weather[\"longitude\"][i]    \n",
    "        time = datetime.datetime(2015, 11, day)\n",
    "        forecast = forecastio.load_forecast(api_key, lat, lng, time=time)\n",
    "        data = forecast.hourly()\n",
    "\n",
    "        data_weather[\"Date\"][i]=time\n",
    "        data_weather['temperature'][i]=data.data[0].d['temperature']\n",
    "        data_weather[\"Weather\"][i] = data.data[0].d['summary']\n",
    "    \n",
    "    weather_stored = \"data_weather_2015110\" + str(day)+ \".csv\"\n",
    "    data_weather.to_csv(weather_stored)\n",
    "    Print(\"Weather data retrieve with sucess\")\n"
   ]
  },
  {
   "cell_type": "code",
   "execution_count": null,
   "metadata": {
    "collapsed": false
   },
   "outputs": [],
   "source": []
  }
 ],
 "metadata": {
  "kernelspec": {
   "display_name": "Python 3",
   "language": "python",
   "name": "python3"
  },
  "language_info": {
   "codemirror_mode": {
    "name": "ipython",
    "version": 3
   },
   "file_extension": ".py",
   "mimetype": "text/x-python",
   "name": "python",
   "nbconvert_exporter": "python",
   "pygments_lexer": "ipython3",
   "version": "3.5.1"
  }
 },
 "nbformat": 4,
 "nbformat_minor": 0
}
